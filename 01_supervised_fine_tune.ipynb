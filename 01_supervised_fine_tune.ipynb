{
 "cells": [
  {
   "cell_type": "code",
   "execution_count": 2,
   "metadata": {},
   "outputs": [],
   "source": [
    "import warnings\n",
    "warnings.filterwarnings(\"ignore\")"
   ]
  },
  {
   "cell_type": "code",
   "execution_count": 3,
   "metadata": {},
   "outputs": [],
   "source": [
    "import numpy as np\n",
    "import pandas as pd\n",
    "import lightgbm as lgb\n",
    "import optuna\n",
    "from sklearn.preprocessing import StandardScaler, MinMaxScaler\n",
    "from sklearn.metrics import roc_auc_score, f1_score, classification_report\n",
    "from optuna.logging import get_logger\n",
    "import matplotlib.pyplot as plt\n",
    "import seaborn as sns\n",
    "\n",
    "random_state = 6\n",
    "np.random.seed(random_state)"
   ]
  },
  {
   "cell_type": "code",
   "execution_count": 4,
   "metadata": {
    "scrolled": true
   },
   "outputs": [
    {
     "name": "stdout",
     "output_type": "stream",
     "text": [
      "train data shape (1600, 9) and test data shape (400, 9)\n"
     ]
    }
   ],
   "source": [
    "## look data with pandas\n",
    "train_file = \"data/rupturemodel_train.txt\"\n",
    "val_file = \"data/rupturemodel_validate.txt\"\n",
    "test_file = \"data/rupturemodel_test.txt\"\n",
    "\n",
    "df_train= pd.read_csv(train_file, sep=\" \", header = None)\n",
    "df_val= pd.read_csv(val_file, sep=\" \", header = None)\n",
    "df_test= pd.read_csv(test_file, sep=\" \", header = None)\n",
    "\n",
    "columns =  ['height', 'width', 'sxx', 'sxy', 'syy', 'sdrop', 'mud', 'dc', 'label']\n",
    "df_train.columns = columns\n",
    "df_val.columns = columns\n",
    "df_test.columns = columns\n",
    "\n",
    "frames = [df_train, df_val]\n",
    "df_train = pd.concat(frames)\n",
    "print('train data shape {} and test data shape {}'.format(np.shape(df_train), np.shape(df_test)))"
   ]
  },
  {
   "cell_type": "code",
   "execution_count": 5,
   "metadata": {},
   "outputs": [],
   "source": [
    "def create_new_features(df: pd.DataFrame) -> pd.DataFrame:\n",
    "    df_new = df.copy()\n",
    "    # Create new features\n",
    "    df_new['height_width_ratio'] = df_new['height'] / df_new['width']\n",
    "    df_new['normal_stress_diff'] = df_new['sxx'] - df_new['syy']\n",
    "    df_new['friction_product'] = df_new['mud'] * (df_new['sdrop'])\n",
    "    df_new['stress_ratio'] = df_new['sxy'] / df_new['syy']\n",
    "    df_new['static_dynamic_friction_diff'] = (\n",
    "        df_new['mud'] + df_new['sdrop']) - df_new['mud']\n",
    "    df_new['stress_diff_dynamic_strength'] = df_new['sxy'] - \\\n",
    "        (df_new['syy'] * df_new['mud'])\n",
    "    df_new['normalized_dc'] = df_new['dc'] / df_new['width']\n",
    "    return df_new"
   ]
  },
  {
   "cell_type": "code",
   "execution_count": 6,
   "metadata": {},
   "outputs": [
    {
     "data": {
      "text/html": [
       "<div>\n",
       "<style scoped>\n",
       "    .dataframe tbody tr th:only-of-type {\n",
       "        vertical-align: middle;\n",
       "    }\n",
       "\n",
       "    .dataframe tbody tr th {\n",
       "        vertical-align: top;\n",
       "    }\n",
       "\n",
       "    .dataframe thead th {\n",
       "        text-align: right;\n",
       "    }\n",
       "</style>\n",
       "<table border=\"1\" class=\"dataframe\">\n",
       "  <thead>\n",
       "    <tr style=\"text-align: right;\">\n",
       "      <th></th>\n",
       "      <th>height</th>\n",
       "      <th>width</th>\n",
       "      <th>sxx</th>\n",
       "      <th>sxy</th>\n",
       "      <th>syy</th>\n",
       "      <th>sdrop</th>\n",
       "      <th>mud</th>\n",
       "      <th>dc</th>\n",
       "      <th>label</th>\n",
       "    </tr>\n",
       "  </thead>\n",
       "  <tbody>\n",
       "    <tr>\n",
       "      <th>count</th>\n",
       "      <td>1600.000000</td>\n",
       "      <td>1600.000000</td>\n",
       "      <td>1600.000000</td>\n",
       "      <td>1600.000000</td>\n",
       "      <td>1600.000000</td>\n",
       "      <td>1600.000000</td>\n",
       "      <td>1600.000000</td>\n",
       "      <td>1600.000000</td>\n",
       "      <td>1600.000000</td>\n",
       "    </tr>\n",
       "    <tr>\n",
       "      <th>mean</th>\n",
       "      <td>0.071973</td>\n",
       "      <td>1.493580</td>\n",
       "      <td>-86.124023</td>\n",
       "      <td>35.877919</td>\n",
       "      <td>-85.767890</td>\n",
       "      <td>0.393578</td>\n",
       "      <td>0.304785</td>\n",
       "      <td>0.401590</td>\n",
       "      <td>0.349375</td>\n",
       "    </tr>\n",
       "    <tr>\n",
       "      <th>std</th>\n",
       "      <td>0.045919</td>\n",
       "      <td>0.290491</td>\n",
       "      <td>44.589736</td>\n",
       "      <td>20.287076</td>\n",
       "      <td>41.857360</td>\n",
       "      <td>0.113716</td>\n",
       "      <td>0.087628</td>\n",
       "      <td>0.050475</td>\n",
       "      <td>0.476922</td>\n",
       "    </tr>\n",
       "    <tr>\n",
       "      <th>min</th>\n",
       "      <td>0.000003</td>\n",
       "      <td>1.000214</td>\n",
       "      <td>-198.643591</td>\n",
       "      <td>2.388038</td>\n",
       "      <td>-159.945235</td>\n",
       "      <td>0.200579</td>\n",
       "      <td>0.200045</td>\n",
       "      <td>0.233045</td>\n",
       "      <td>0.000000</td>\n",
       "    </tr>\n",
       "    <tr>\n",
       "      <th>25%</th>\n",
       "      <td>0.031667</td>\n",
       "      <td>1.242157</td>\n",
       "      <td>-120.350589</td>\n",
       "      <td>20.244549</td>\n",
       "      <td>-120.237232</td>\n",
       "      <td>0.295451</td>\n",
       "      <td>0.231681</td>\n",
       "      <td>0.367681</td>\n",
       "      <td>0.000000</td>\n",
       "    </tr>\n",
       "    <tr>\n",
       "      <th>50%</th>\n",
       "      <td>0.069885</td>\n",
       "      <td>1.481288</td>\n",
       "      <td>-82.773471</td>\n",
       "      <td>33.291381</td>\n",
       "      <td>-85.670660</td>\n",
       "      <td>0.389461</td>\n",
       "      <td>0.283825</td>\n",
       "      <td>0.401143</td>\n",
       "      <td>0.000000</td>\n",
       "    </tr>\n",
       "    <tr>\n",
       "      <th>75%</th>\n",
       "      <td>0.105252</td>\n",
       "      <td>1.743961</td>\n",
       "      <td>-50.453823</td>\n",
       "      <td>49.316321</td>\n",
       "      <td>-50.868223</td>\n",
       "      <td>0.486345</td>\n",
       "      <td>0.356399</td>\n",
       "      <td>0.434763</td>\n",
       "      <td>1.000000</td>\n",
       "    </tr>\n",
       "    <tr>\n",
       "      <th>max</th>\n",
       "      <td>0.195712</td>\n",
       "      <td>2.128935</td>\n",
       "      <td>-7.933036</td>\n",
       "      <td>97.618207</td>\n",
       "      <td>-10.011991</td>\n",
       "      <td>0.599913</td>\n",
       "      <td>0.573047</td>\n",
       "      <td>0.583352</td>\n",
       "      <td>1.000000</td>\n",
       "    </tr>\n",
       "  </tbody>\n",
       "</table>\n",
       "</div>"
      ],
      "text/plain": [
       "            height        width          sxx          sxy          syy  \\\n",
       "count  1600.000000  1600.000000  1600.000000  1600.000000  1600.000000   \n",
       "mean      0.071973     1.493580   -86.124023    35.877919   -85.767890   \n",
       "std       0.045919     0.290491    44.589736    20.287076    41.857360   \n",
       "min       0.000003     1.000214  -198.643591     2.388038  -159.945235   \n",
       "25%       0.031667     1.242157  -120.350589    20.244549  -120.237232   \n",
       "50%       0.069885     1.481288   -82.773471    33.291381   -85.670660   \n",
       "75%       0.105252     1.743961   -50.453823    49.316321   -50.868223   \n",
       "max       0.195712     2.128935    -7.933036    97.618207   -10.011991   \n",
       "\n",
       "             sdrop          mud           dc        label  \n",
       "count  1600.000000  1600.000000  1600.000000  1600.000000  \n",
       "mean      0.393578     0.304785     0.401590     0.349375  \n",
       "std       0.113716     0.087628     0.050475     0.476922  \n",
       "min       0.200579     0.200045     0.233045     0.000000  \n",
       "25%       0.295451     0.231681     0.367681     0.000000  \n",
       "50%       0.389461     0.283825     0.401143     0.000000  \n",
       "75%       0.486345     0.356399     0.434763     1.000000  \n",
       "max       0.599913     0.573047     0.583352     1.000000  "
      ]
     },
     "execution_count": 6,
     "metadata": {},
     "output_type": "execute_result"
    }
   ],
   "source": [
    "df_train.describe()"
   ]
  },
  {
   "cell_type": "code",
   "execution_count": 13,
   "metadata": {},
   "outputs": [
    {
     "data": {
      "text/html": [
       "<div>\n",
       "<style scoped>\n",
       "    .dataframe tbody tr th:only-of-type {\n",
       "        vertical-align: middle;\n",
       "    }\n",
       "\n",
       "    .dataframe tbody tr th {\n",
       "        vertical-align: top;\n",
       "    }\n",
       "\n",
       "    .dataframe thead th {\n",
       "        text-align: right;\n",
       "    }\n",
       "</style>\n",
       "<table border=\"1\" class=\"dataframe\">\n",
       "  <thead>\n",
       "    <tr style=\"text-align: right;\">\n",
       "      <th></th>\n",
       "      <th>height</th>\n",
       "      <th>width</th>\n",
       "      <th>sxx</th>\n",
       "      <th>sxy</th>\n",
       "      <th>syy</th>\n",
       "      <th>sdrop</th>\n",
       "      <th>mud</th>\n",
       "      <th>dc</th>\n",
       "      <th>label</th>\n",
       "    </tr>\n",
       "  </thead>\n",
       "  <tbody>\n",
       "    <tr>\n",
       "      <th>0</th>\n",
       "      <td>0.103861</td>\n",
       "      <td>1.145663</td>\n",
       "      <td>-102.509086</td>\n",
       "      <td>58.619371</td>\n",
       "      <td>-117.766562</td>\n",
       "      <td>0.483821</td>\n",
       "      <td>0.216681</td>\n",
       "      <td>0.295842</td>\n",
       "      <td>0.0</td>\n",
       "    </tr>\n",
       "    <tr>\n",
       "      <th>1</th>\n",
       "      <td>0.088714</td>\n",
       "      <td>1.304360</td>\n",
       "      <td>-136.062270</td>\n",
       "      <td>51.391037</td>\n",
       "      <td>-126.715571</td>\n",
       "      <td>0.345944</td>\n",
       "      <td>0.447964</td>\n",
       "      <td>0.406466</td>\n",
       "      <td>1.0</td>\n",
       "    </tr>\n",
       "    <tr>\n",
       "      <th>2</th>\n",
       "      <td>0.099706</td>\n",
       "      <td>1.260377</td>\n",
       "      <td>-117.558936</td>\n",
       "      <td>40.972081</td>\n",
       "      <td>-115.529343</td>\n",
       "      <td>0.292719</td>\n",
       "      <td>0.501697</td>\n",
       "      <td>0.389360</td>\n",
       "      <td>1.0</td>\n",
       "    </tr>\n",
       "    <tr>\n",
       "      <th>3</th>\n",
       "      <td>0.115749</td>\n",
       "      <td>1.191782</td>\n",
       "      <td>-128.169036</td>\n",
       "      <td>94.020712</td>\n",
       "      <td>-157.830504</td>\n",
       "      <td>0.571710</td>\n",
       "      <td>0.202831</td>\n",
       "      <td>0.408976</td>\n",
       "      <td>0.0</td>\n",
       "    </tr>\n",
       "    <tr>\n",
       "      <th>4</th>\n",
       "      <td>0.017900</td>\n",
       "      <td>1.108150</td>\n",
       "      <td>-106.350320</td>\n",
       "      <td>29.148969</td>\n",
       "      <td>-101.379323</td>\n",
       "      <td>0.253122</td>\n",
       "      <td>0.324653</td>\n",
       "      <td>0.398592</td>\n",
       "      <td>1.0</td>\n",
       "    </tr>\n",
       "  </tbody>\n",
       "</table>\n",
       "</div>"
      ],
      "text/plain": [
       "     height     width         sxx        sxy         syy     sdrop       mud  \\\n",
       "0  0.103861  1.145663 -102.509086  58.619371 -117.766562  0.483821  0.216681   \n",
       "1  0.088714  1.304360 -136.062270  51.391037 -126.715571  0.345944  0.447964   \n",
       "2  0.099706  1.260377 -117.558936  40.972081 -115.529343  0.292719  0.501697   \n",
       "3  0.115749  1.191782 -128.169036  94.020712 -157.830504  0.571710  0.202831   \n",
       "4  0.017900  1.108150 -106.350320  29.148969 -101.379323  0.253122  0.324653   \n",
       "\n",
       "         dc  label  \n",
       "0  0.295842    0.0  \n",
       "1  0.406466    1.0  \n",
       "2  0.389360    1.0  \n",
       "3  0.408976    0.0  \n",
       "4  0.398592    1.0  "
      ]
     },
     "execution_count": 13,
     "metadata": {},
     "output_type": "execute_result"
    }
   ],
   "source": [
    "df_train.head()"
   ]
  },
  {
   "cell_type": "code",
   "execution_count": 5,
   "metadata": {
    "scrolled": false
   },
   "outputs": [],
   "source": [
    "X_train = df_train.drop('label', axis=1)\n",
    "X_train = create_new_features(X_train)\n",
    "y_train = df_train['label'].values\n",
    "\n",
    "# Validation data\n",
    "X_val = df_val.drop('label', axis=1)\n",
    "X_val = create_new_features(X_val)\n",
    "y_val = df_val['label'].values\n",
    "\n",
    "# Test data\n",
    "X_test = df_test.drop('label', axis=1)\n",
    "X_test = create_new_features(X_test)\n",
    "y_test = df_test['label'].values"
   ]
  },
  {
   "cell_type": "code",
   "execution_count": 6,
   "metadata": {},
   "outputs": [
    {
     "data": {
      "text/html": [
       "<div>\n",
       "<style scoped>\n",
       "    .dataframe tbody tr th:only-of-type {\n",
       "        vertical-align: middle;\n",
       "    }\n",
       "\n",
       "    .dataframe tbody tr th {\n",
       "        vertical-align: top;\n",
       "    }\n",
       "\n",
       "    .dataframe thead th {\n",
       "        text-align: right;\n",
       "    }\n",
       "</style>\n",
       "<table border=\"1\" class=\"dataframe\">\n",
       "  <thead>\n",
       "    <tr style=\"text-align: right;\">\n",
       "      <th></th>\n",
       "      <th>height</th>\n",
       "      <th>width</th>\n",
       "      <th>sxx</th>\n",
       "      <th>sxy</th>\n",
       "      <th>syy</th>\n",
       "      <th>sdrop</th>\n",
       "      <th>mud</th>\n",
       "      <th>dc</th>\n",
       "      <th>height_width_ratio</th>\n",
       "      <th>normal_stress_diff</th>\n",
       "      <th>friction_product</th>\n",
       "      <th>stress_ratio</th>\n",
       "      <th>static_dynamic_friction_diff</th>\n",
       "      <th>stress_diff_dynamic_strength</th>\n",
       "      <th>normalized_dc</th>\n",
       "    </tr>\n",
       "  </thead>\n",
       "  <tbody>\n",
       "    <tr>\n",
       "      <th>0</th>\n",
       "      <td>0.103861</td>\n",
       "      <td>1.145663</td>\n",
       "      <td>-102.509086</td>\n",
       "      <td>58.619371</td>\n",
       "      <td>-117.766562</td>\n",
       "      <td>0.483821</td>\n",
       "      <td>0.216681</td>\n",
       "      <td>0.295842</td>\n",
       "      <td>0.090656</td>\n",
       "      <td>15.257476</td>\n",
       "      <td>0.104835</td>\n",
       "      <td>-0.497759</td>\n",
       "      <td>0.483821</td>\n",
       "      <td>84.137147</td>\n",
       "      <td>0.258228</td>\n",
       "    </tr>\n",
       "    <tr>\n",
       "      <th>1</th>\n",
       "      <td>0.088714</td>\n",
       "      <td>1.304360</td>\n",
       "      <td>-136.062270</td>\n",
       "      <td>51.391037</td>\n",
       "      <td>-126.715571</td>\n",
       "      <td>0.345944</td>\n",
       "      <td>0.447964</td>\n",
       "      <td>0.406466</td>\n",
       "      <td>0.068013</td>\n",
       "      <td>-9.346699</td>\n",
       "      <td>0.154970</td>\n",
       "      <td>-0.405562</td>\n",
       "      <td>0.345944</td>\n",
       "      <td>108.155051</td>\n",
       "      <td>0.311621</td>\n",
       "    </tr>\n",
       "    <tr>\n",
       "      <th>2</th>\n",
       "      <td>0.099706</td>\n",
       "      <td>1.260377</td>\n",
       "      <td>-117.558936</td>\n",
       "      <td>40.972081</td>\n",
       "      <td>-115.529343</td>\n",
       "      <td>0.292719</td>\n",
       "      <td>0.501697</td>\n",
       "      <td>0.389360</td>\n",
       "      <td>0.079108</td>\n",
       "      <td>-2.029593</td>\n",
       "      <td>0.146856</td>\n",
       "      <td>-0.354647</td>\n",
       "      <td>0.292719</td>\n",
       "      <td>98.932806</td>\n",
       "      <td>0.308923</td>\n",
       "    </tr>\n",
       "    <tr>\n",
       "      <th>3</th>\n",
       "      <td>0.115749</td>\n",
       "      <td>1.191782</td>\n",
       "      <td>-128.169036</td>\n",
       "      <td>94.020712</td>\n",
       "      <td>-157.830504</td>\n",
       "      <td>0.571710</td>\n",
       "      <td>0.202831</td>\n",
       "      <td>0.408976</td>\n",
       "      <td>0.097123</td>\n",
       "      <td>29.661468</td>\n",
       "      <td>0.115961</td>\n",
       "      <td>-0.595707</td>\n",
       "      <td>0.571710</td>\n",
       "      <td>126.033631</td>\n",
       "      <td>0.343163</td>\n",
       "    </tr>\n",
       "    <tr>\n",
       "      <th>4</th>\n",
       "      <td>0.017900</td>\n",
       "      <td>1.108150</td>\n",
       "      <td>-106.350320</td>\n",
       "      <td>29.148969</td>\n",
       "      <td>-101.379323</td>\n",
       "      <td>0.253122</td>\n",
       "      <td>0.324653</td>\n",
       "      <td>0.398592</td>\n",
       "      <td>0.016153</td>\n",
       "      <td>-4.970997</td>\n",
       "      <td>0.082177</td>\n",
       "      <td>-0.287524</td>\n",
       "      <td>0.253122</td>\n",
       "      <td>62.062070</td>\n",
       "      <td>0.359691</td>\n",
       "    </tr>\n",
       "  </tbody>\n",
       "</table>\n",
       "</div>"
      ],
      "text/plain": [
       "     height     width         sxx        sxy         syy     sdrop       mud  \\\n",
       "0  0.103861  1.145663 -102.509086  58.619371 -117.766562  0.483821  0.216681   \n",
       "1  0.088714  1.304360 -136.062270  51.391037 -126.715571  0.345944  0.447964   \n",
       "2  0.099706  1.260377 -117.558936  40.972081 -115.529343  0.292719  0.501697   \n",
       "3  0.115749  1.191782 -128.169036  94.020712 -157.830504  0.571710  0.202831   \n",
       "4  0.017900  1.108150 -106.350320  29.148969 -101.379323  0.253122  0.324653   \n",
       "\n",
       "         dc  height_width_ratio  normal_stress_diff  friction_product  \\\n",
       "0  0.295842            0.090656           15.257476          0.104835   \n",
       "1  0.406466            0.068013           -9.346699          0.154970   \n",
       "2  0.389360            0.079108           -2.029593          0.146856   \n",
       "3  0.408976            0.097123           29.661468          0.115961   \n",
       "4  0.398592            0.016153           -4.970997          0.082177   \n",
       "\n",
       "   stress_ratio  static_dynamic_friction_diff  stress_diff_dynamic_strength  \\\n",
       "0     -0.497759                      0.483821                     84.137147   \n",
       "1     -0.405562                      0.345944                    108.155051   \n",
       "2     -0.354647                      0.292719                     98.932806   \n",
       "3     -0.595707                      0.571710                    126.033631   \n",
       "4     -0.287524                      0.253122                     62.062070   \n",
       "\n",
       "   normalized_dc  \n",
       "0       0.258228  \n",
       "1       0.311621  \n",
       "2       0.308923  \n",
       "3       0.343163  \n",
       "4       0.359691  "
      ]
     },
     "execution_count": 6,
     "metadata": {},
     "output_type": "execute_result"
    }
   ],
   "source": [
    "X_train.head(5)"
   ]
  },
  {
   "cell_type": "code",
   "execution_count": 7,
   "metadata": {},
   "outputs": [],
   "source": [
    "def objective(trial):\n",
    "    params = {\n",
    "        'objective': 'binary',\n",
    "        'metric': 'auc',\n",
    "        'verbosity': -1,\n",
    "        'scale_pos_weight': trial.suggest_float('scale_pos_weight', 4, 50.0),\n",
    "        'learning_rate': trial.suggest_loguniform('learning_rate', 1e-8, 1.0),\n",
    "        'n_estimators': trial.suggest_int('n_estimators', 100, 1000),\n",
    "        'boosting_type': trial.suggest_categorical('boosting_type', ['gbdt', 'dart']),\n",
    "        'lambda_l1': trial.suggest_loguniform('lambda_l1', 1e-8, 10.0),\n",
    "        'lambda_l2': trial.suggest_loguniform('lambda_l2', 1e-8, 10.0),\n",
    "        'num_leaves': trial.suggest_int('num_leaves', 2, 256),\n",
    "        'feature_fraction': trial.suggest_uniform('feature_fraction', 0.4, 1.0),\n",
    "        'bagging_fraction': trial.suggest_uniform('bagging_fraction', 0.4, 1.0),\n",
    "        'bagging_freq': trial.suggest_int('bagging_freq', 1, 7),\n",
    "        'min_child_samples': trial.suggest_int('min_child_samples', 5, 100),\n",
    "    }\n",
    "\n",
    "    lgb_train = lgb.Dataset(X_train, y_train)\n",
    "    lgb_eval = lgb.Dataset(X_val, y_val, reference=lgb_train)\n",
    "\n",
    "    model = lgb.train(params, lgb_train, valid_sets=lgb_eval,\n",
    "                      early_stopping_rounds=100, verbose_eval=False)\n",
    "\n",
    "    y_pred = model.predict(X_val, num_iteration=model.best_iteration)\n",
    "    y_pred = np.round(y_pred).astype(int)\n",
    "\n",
    "    y_val_pred = model.predict(X_val)\n",
    "    y_val_pred = np.round(y_val_pred).astype(int)\n",
    "    score = f1_score(y_val, y_val_pred, average='macro')\n",
    "    \n",
    "    return score\n"
   ]
  },
  {
   "cell_type": "code",
   "execution_count": null,
   "metadata": {},
   "outputs": [],
   "source": [
    "# Define a silent callback\n",
    "def silent_callback(study, trial):\n",
    "    if study.trials[-1].state == optuna.trial.TrialState.COMPLETE:\n",
    "        logger.info(\"Trial {} finished with value: {} and parameters: {}\".format(\n",
    "            trial.number, trial.value, trial.params))\n",
    "\n",
    "logger = get_logger(\"optuna\")\n",
    "logger.setLevel(\"INFO\")\n",
    "\n",
    "study = optuna.create_study(\n",
    "    direction='maximize')\n",
    "\n",
    "# Run optimization\n",
    "study.optimize(\n",
    "    objective,\n",
    "    n_trials=30,\n",
    "    show_progress_bar=True,\n",
    "    callbacks=[silent_callback]\n",
    ")"
   ]
  },
  {
   "cell_type": "code",
   "execution_count": null,
   "metadata": {},
   "outputs": [],
   "source": [
    "print('Best trial:')\n",
    "trial = study.best_trial\n",
    "print(f'Best score: {trial.value}')\n",
    "print(f'Best Params: {trial.params}')"
   ]
  },
  {
   "cell_type": "code",
   "execution_count": null,
   "metadata": {},
   "outputs": [],
   "source": [
    "# Train model with the best parameters\n",
    "best_params = trial.params\n",
    "lgb_train = lgb.Dataset(X_train, y_train)"
   ]
  },
  {
   "cell_type": "code",
   "execution_count": null,
   "metadata": {},
   "outputs": [],
   "source": [
    "lgb_test = lgb.Dataset(X_test, y_test, reference=lgb_train)\n",
    "\n",
    "best_supervised_model = lgb.train(best_params, lgb_train, valid_sets=lgb_test,\n",
    "                       early_stopping_rounds=100, verbose_eval=False)\n"
   ]
  },
  {
   "cell_type": "code",
   "execution_count": null,
   "metadata": {},
   "outputs": [],
   "source": [
    "y_pred = best_supervised_model.predict(X_test, num_iteration=best_supervised_model.best_iteration)\n",
    "test_score = roc_auc_score(y_test, y_pred)\n",
    "print(f'Test Roc-AUC score: {test_score}')"
   ]
  },
  {
   "cell_type": "code",
   "execution_count": null,
   "metadata": {},
   "outputs": [],
   "source": [
    "### Classification report\n",
    "y_pred = np.round(y_pred).astype(int)\n",
    "print(classification_report(y_test, y_pred))"
   ]
  },
  {
   "cell_type": "code",
   "execution_count": null,
   "metadata": {},
   "outputs": [],
   "source": [
    "### Save the model\n",
    "best_supervised_model.save_model('./models/best_supervised_model.txt')"
   ]
  },
  {
   "cell_type": "code",
   "execution_count": null,
   "metadata": {},
   "outputs": [],
   "source": [
    "### Load the model\n",
    "# best_supervised_model = lgb.Booster(model_file='./models/best_supervised_model.txt')"
   ]
  },
  {
   "cell_type": "markdown",
   "metadata": {},
   "source": [
    "### Visualization of hyperparameter importance using Optuna"
   ]
  },
  {
   "cell_type": "code",
   "execution_count": null,
   "metadata": {},
   "outputs": [],
   "source": [
    "import optuna.visualization as vis"
   ]
  },
  {
   "cell_type": "code",
   "execution_count": null,
   "metadata": {},
   "outputs": [],
   "source": [
    "# Plot optimization history\n",
    "plot_optimization_history = vis.plot_optimization_history(study)\n",
    "plot_optimization_history.show()"
   ]
  },
  {
   "cell_type": "code",
   "execution_count": null,
   "metadata": {},
   "outputs": [],
   "source": [
    "# Plot parameter importances\n",
    "plot_param_importances = vis.plot_param_importances(study)\n",
    "plot_param_importances.show()"
   ]
  },
  {
   "cell_type": "code",
   "execution_count": null,
   "metadata": {},
   "outputs": [],
   "source": [
    "# Plot parallel coordinate plot\n",
    "plot_parallel_coordinate = vis.plot_parallel_coordinate(study)\n",
    "plot_parallel_coordinate.show()"
   ]
  },
  {
   "cell_type": "code",
   "execution_count": null,
   "metadata": {},
   "outputs": [],
   "source": [
    "# Plot slice plot\n",
    "plot_slice = vis.plot_slice(study)\n",
    "plot_slice.show()"
   ]
  },
  {
   "cell_type": "code",
   "execution_count": null,
   "metadata": {},
   "outputs": [],
   "source": [
    "# Plot contour plot\n",
    "# Best Params: {'scale_pos_weight': 8.849103938047977, 'learning_rate': 0.11651683871291287, 'n_estimators': 710, 'boosting_type': 'dart', 'lambda_l1': 1.0263206593735317e-05, 'lambda_l2': 3.729990954390867e-08, 'num_leaves': 48, 'feature_fraction': 0.49816303001038625, 'bagging_fraction': 0.7791692888330242, 'bagging_freq': 4, 'min_child_samples': 30}\n",
    "\n",
    "plot_contour = vis.plot_contour(study, params=['num_leaves', 'n_estimators'])\n",
    "plot_contour.show()\n"
   ]
  },
  {
   "cell_type": "markdown",
   "metadata": {},
   "source": [
    "### Data Preparation for Unsupervised Learning"
   ]
  },
  {
   "cell_type": "code",
   "execution_count": 32,
   "metadata": {},
   "outputs": [],
   "source": [
    "import torch\n",
    "import torch.nn as nn\n",
    "import torch.optim as optim\n",
    "from torch.autograd import Variable\n",
    "from torch.utils.data import DataLoader, TensorDataset"
   ]
  },
  {
   "cell_type": "code",
   "execution_count": 33,
   "metadata": {},
   "outputs": [
    {
     "name": "stdout",
     "output_type": "stream",
     "text": [
      "cuda\n"
     ]
    }
   ],
   "source": [
    "if torch.cuda.is_available():\n",
    "    device = torch.device('cuda')\n",
    "else:\n",
    "    device = torch.device('cpu')\n",
    "print(device)\n"
   ]
  },
  {
   "cell_type": "markdown",
   "metadata": {},
   "source": [
    "### Normalize the data"
   ]
  },
  {
   "cell_type": "code",
   "execution_count": 34,
   "metadata": {},
   "outputs": [],
   "source": [
    "# Normalize input data (excluding the 'label' column)\n",
    "train_columns =  ['height', 'width', 'sxx', 'sxy', 'syy', 'sdrop', 'mud', 'dc']\n",
    "scaler = MinMaxScaler().fit(X_train[train_columns].values)\n",
    "\n",
    "# Create a PyTorch train dataset and dataloader\n",
    "normalized_data = scaler.transform(X_train[train_columns].values)\n",
    "X_tensor = torch.tensor(normalized_data, dtype=torch.float32)\n",
    "Y_tensor = torch.tensor(y_train, dtype=torch.float32)\n",
    "dataset = TensorDataset(X_tensor, Y_tensor)\n",
    "train_dataloader = DataLoader(dataset, batch_size=32, shuffle=True)\n",
    "\n",
    "# Create validation dataset and dataloader\n",
    "normalized_data = scaler.transform(X_val[train_columns].values)\n",
    "X_tensor = torch.tensor(normalized_data, dtype=torch.float32)\n",
    "Y_tensor = torch.tensor(y_val, dtype=torch.float32)\n",
    "dataset = TensorDataset(X_tensor, Y_tensor)\n",
    "val_dataloader = DataLoader(dataset, batch_size=32, shuffle=True)\n",
    " \n",
    " \n",
    " # Create test dataset and dataloader\n",
    "normalized_data = scaler.transform(X_test[train_columns].values)\n",
    "X_tensor = torch.tensor(normalized_data, dtype=torch.float32)\n",
    "Y_tensor = torch.tensor(y_test, dtype=torch.float32)\n",
    "dataset = TensorDataset(X_tensor, Y_tensor)\n",
    "test_dataloader = DataLoader(dataset, batch_size=32, shuffle=True)"
   ]
  },
  {
   "cell_type": "code",
   "execution_count": 35,
   "metadata": {},
   "outputs": [
    {
     "data": {
      "text/plain": [
       "torch.Size([400])"
      ]
     },
     "execution_count": 35,
     "metadata": {},
     "output_type": "execute_result"
    }
   ],
   "source": [
    "test_dataloader.dataset.tensors[1].shape"
   ]
  },
  {
   "cell_type": "markdown",
   "metadata": {},
   "source": [
    "### Generator and Discriminator models"
   ]
  },
  {
   "cell_type": "code",
   "execution_count": 81,
   "metadata": {},
   "outputs": [],
   "source": [
    "import torch\n",
    "import torch.nn as nn\n",
    "\n",
    "# Generator\n",
    "class Generator(nn.Module):\n",
    "    def __init__(self, input_dim, hidden_dim, output_dim):\n",
    "        super(Generator, self).__init__()\n",
    "        self.model = nn.Sequential(\n",
    "            nn.Linear(input_dim, 128),\n",
    "            nn.ReLU(),\n",
    "            nn.Linear(128, 64),\n",
    "            nn.ReLU(),\n",
    "            nn.Linear(64, 64),\n",
    "            nn.ReLU(),\n",
    "            nn.Linear(64, output_dim),\n",
    "            nn.Sigmoid()\n",
    "        )\n",
    "\n",
    "    def forward(self, x):\n",
    "        return self.model(x)\n",
    "\n",
    "# Discriminator\n",
    "class Discriminator(nn.Module):\n",
    "    def __init__(self, input_dim, hidden_dim, output_dim):\n",
    "        super(Discriminator, self).__init__()\n",
    "        self.model = nn.Sequential(\n",
    "            nn.Linear(input_dim, 24),\n",
    "            nn.ReLU(),\n",
    "            nn.Linear(24, 16),\n",
    "            nn.ReLU(),\n",
    "            nn.Linear(16, output_dim),\n",
    "            nn.Sigmoid()\n",
    "        )\n",
    "\n",
    "    def forward(self, x):\n",
    "        return self.model(x)\n",
    "\n"
   ]
  },
  {
   "cell_type": "code",
   "execution_count": 82,
   "metadata": {},
   "outputs": [],
   "source": [
    "# Example usage\n",
    "generator_input_dim = 100\n",
    "generator_output_dim = 8\n",
    "\n",
    "discriminator_input_dim = 8\n",
    "discriminator_output_dim = 1\n",
    "\n",
    "generator = Generator(generator_input_dim,\n",
    "                      generator_hidden_dim, generator_output_dim).to(device)\n",
    "\n",
    "discriminator = Discriminator(\n",
    "    discriminator_input_dim, discriminator_hidden_dim, discriminator_output_dim).to(device)"
   ]
  },
  {
   "cell_type": "code",
   "execution_count": 83,
   "metadata": {},
   "outputs": [
    {
     "name": "stdout",
     "output_type": "stream",
     "text": [
      "Epoch [100/1000] Discriminator Loss: 1.369302749633789, Generator Loss: 0.7147249579429626\n",
      "Epoch [200/1000] Discriminator Loss: 1.4454288482666016, Generator Loss: 0.6954079270362854\n",
      "Epoch [300/1000] Discriminator Loss: 1.3604177236557007, Generator Loss: 0.5970274806022644\n",
      "Epoch [400/1000] Discriminator Loss: 1.3372066020965576, Generator Loss: 0.6580452919006348\n",
      "Epoch [500/1000] Discriminator Loss: 1.3738499879837036, Generator Loss: 0.7773289680480957\n",
      "Epoch [600/1000] Discriminator Loss: 1.3833675384521484, Generator Loss: 0.698786735534668\n",
      "Epoch [700/1000] Discriminator Loss: 1.3894259929656982, Generator Loss: 0.6775549054145813\n",
      "Epoch [800/1000] Discriminator Loss: 1.3800835609436035, Generator Loss: 0.6759234070777893\n",
      "Epoch [900/1000] Discriminator Loss: 1.3558225631713867, Generator Loss: 0.6651424765586853\n",
      "Epoch [1000/1000] Discriminator Loss: 1.37459135055542, Generator Loss: 0.6587144136428833\n"
     ]
    }
   ],
   "source": [
    "import torch.optim as optim\n",
    "\n",
    "# Hyperparameters\n",
    "epochs = 1000\n",
    "batch_size = 16\n",
    "lr = 0.0002\n",
    "\n",
    "# Loss function and optimizers\n",
    "criterion = nn.BCELoss()\n",
    "optimizer_G = optim.Adam(generator.parameters(), lr=lr)\n",
    "optimizer_D = optim.Adam(discriminator.parameters(), lr=lr)\n",
    "\n",
    "# Lists for recording losses\n",
    "discriminator_losses = []\n",
    "generator_losses = []\n",
    "\n",
    "for epoch in range(epochs):\n",
    "\n",
    "    for real_data, _ in train_dataloader:\n",
    "        batch_size = real_data.size(0)\n",
    "\n",
    "        # Train the discriminator\n",
    "        optimizer_D.zero_grad()\n",
    "\n",
    "        # Train with real data\n",
    "        real_label = torch.ones(batch_size, 1).to(device)\n",
    "        real_output = discriminator(real_data.to(device))\n",
    "        real_loss = criterion(real_output, real_label)\n",
    "\n",
    "        # Train with fake data\n",
    "        noise = torch.randn(batch_size, generator_input_dim).to(device)\n",
    "        fake_data = generator(noise)\n",
    "        fake_label = torch.zeros(batch_size, 1).to(device)\n",
    "        fake_output = discriminator(fake_data.detach())\n",
    "        fake_loss = criterion(fake_output, fake_label)\n",
    "\n",
    "        # Update the discriminator\n",
    "        discriminator_loss = real_loss + fake_loss\n",
    "        discriminator_loss.backward()\n",
    "        optimizer_D.step()\n",
    "\n",
    "        # Train the generator\n",
    "        optimizer_G.zero_grad()\n",
    "\n",
    "        # Generate fake data\n",
    "        noise = torch.randn(batch_size, generator_input_dim).to(device)\n",
    "        fake_data = generator(noise)\n",
    "\n",
    "        # Train the generator to fool the discriminator\n",
    "        output = discriminator(fake_data)\n",
    "        generator_loss = criterion(output, real_label)\n",
    "        generator_loss.backward()\n",
    "        optimizer_G.step()\n",
    "\n",
    "        # Record losses\n",
    "        discriminator_losses.append(discriminator_loss.item())\n",
    "        generator_losses.append(generator_loss.item())\n",
    "        \n",
    "    # Save best models\n",
    "    if epoch == 0:\n",
    "        best_generator_loss = generator_loss.item()\n",
    "        best_discriminator_loss = discriminator_loss.item()\n",
    "        torch.save(generator.state_dict(), './models/best_generator.pt')\n",
    "        torch.save(discriminator.state_dict(), './models/best_discriminator.pt')\n",
    "    else:\n",
    "        if generator_loss.item() < best_generator_loss:\n",
    "            best_generator_loss = generator_loss.item()\n",
    "            torch.save(generator.state_dict(), './models/best_generator.pt')\n",
    "        if discriminator_loss.item() < best_discriminator_loss:\n",
    "            best_discriminator_loss = discriminator_loss.item()\n",
    "            torch.save(discriminator.state_dict(), './models/best_discriminator.pt')\n",
    "             \n",
    "    # Print losses\n",
    "    if (epoch + 1) % 100 == 0:\n",
    "        print(f\"Epoch [{epoch + 1}/{epochs}] Discriminator Loss: {discriminator_loss.item()}, Generator Loss: {generator_loss.item()}\")"
   ]
  },
  {
   "cell_type": "code",
   "execution_count": 84,
   "metadata": {},
   "outputs": [
    {
     "data": {
      "image/png": "[encoded data removed]",
      "text/plain": [
       "<Figure size 640x480 with 1 Axes>"
      ]
     },
     "metadata": {},
     "output_type": "display_data"
    }
   ],
   "source": [
    "# Plot losses\n",
    "plt.plot(discriminator_losses, label=\"Discriminator Loss\")\n",
    "plt.plot(generator_losses, label=\"Generator Loss\")\n",
    "plt.xlabel(\"Iteration\")\n",
    "plt.ylabel(\"Loss\")\n",
    "plt.legend(frameon=False)\n",
    "plt.show()\n"
   ]
  },
  {
   "cell_type": "code",
   "execution_count": 61,
   "metadata": {},
   "outputs": [],
   "source": [
    "# Create a random input for the generator\n",
    "random_input = torch.randn(2, generator_input_dim)\n",
    "\n",
    "# Generate data using the generator\n",
    "generated_data = generator(random_input.to(device))\n",
    "\n",
    "# Pass the generated data through the discriminator\n",
    "discriminator_output = discriminator(generated_data)"
   ]
  },
  {
   "cell_type": "code",
   "execution_count": 62,
   "metadata": {},
   "outputs": [
    {
     "data": {
      "text/plain": [
       "tensor([[1., 0., 1., 1., 0., 0., 0., 1.],\n",
       "        [1., 0., 1., 1., 0., 0., 0., 1.]], device='cuda:0',\n",
       "       grad_fn=<SigmoidBackward0>)"
      ]
     },
     "execution_count": 62,
     "metadata": {},
     "output_type": "execute_result"
    }
   ],
   "source": [
    "generated_data"
   ]
  },
  {
   "cell_type": "code",
   "execution_count": 63,
   "metadata": {},
   "outputs": [
    {
     "data": {
      "text/plain": [
       "tensor([[4.1142e-12],\n",
       "        [4.1142e-12]], device='cuda:0', grad_fn=<SigmoidBackward0>)"
      ]
     },
     "execution_count": 63,
     "metadata": {},
     "output_type": "execute_result"
    }
   ],
   "source": [
    "discriminator_output"
   ]
  },
  {
   "cell_type": "code",
   "execution_count": null,
   "metadata": {},
   "outputs": [],
   "source": []
  },
  {
   "cell_type": "code",
   "execution_count": null,
   "metadata": {},
   "outputs": [],
   "source": []
  },
  {
   "cell_type": "code",
   "execution_count": null,
   "metadata": {},
   "outputs": [],
   "source": []
  },
  {
   "cell_type": "code",
   "execution_count": null,
   "metadata": {},
   "outputs": [],
   "source": []
  },
  {
   "cell_type": "markdown",
   "metadata": {},
   "source": [
    "### Variational Autoencoder"
   ]
  },
  {
   "cell_type": "code",
   "execution_count": null,
   "metadata": {},
   "outputs": [],
   "source": [
    "class VAE(nn.Module):\n",
    "    def __init__(self, input_dim, hidden_dim, latent_dim, num_layers):\n",
    "        super(VAE, self).__init__()\n",
    "\n",
    "        assert len(hidden_dim) == num_layers, \"hidden_dim and num_layers must be the same length\"\n",
    "        self.input_dim = input_dim\n",
    "        self.hidden_dim = hidden_dim\n",
    "        self.latent_dim = latent_dim\n",
    "        self.num_layers = num_layers\n",
    "        self.encoder = self.create_encoder()\n",
    "        self.fc_mu = nn.Linear(self.hidden_dim[-1], self.latent_dim)\n",
    "        self.fc_logvar = nn.Linear(self.hidden_dim[-1], self.latent_dim)\n",
    "        self.decoder = self.create_decoder()\n",
    "\n",
    "    def create_encoder(self):\n",
    "        # Encoder\n",
    "        encoder = nn.Sequential()\n",
    "        encoder.add_module(\n",
    "            \"linear_0\", nn.Linear(self.input_dim, self.hidden_dim[0]))\n",
    "        encoder.add_module(\"relu_0\", nn.ReLU())\n",
    "\n",
    "        for layer in range(1, self.num_layers):\n",
    "            encoder.add_module(\n",
    "                f\"linear_{layer}\", nn.Linear(self.hidden_dim[layer-1], self.hidden_dim[layer]))\n",
    "            encoder.add_module(f\"relu_{layer}\", nn.ReLU())\n",
    "        return encoder\n",
    "        \n",
    "    def create_decoder(self):\n",
    "        # Decoder\n",
    "        decoder = nn.Sequential()\n",
    "        decoder.add_module(\n",
    "            \"linear_0\", nn.Linear(self.latent_dim, self.hidden_dim[0]))\n",
    "        decoder.add_module(\"relu_0\", nn.ReLU())\n",
    "\n",
    "        for layer in range(1, self.num_layers):\n",
    "            decoder.add_module(\n",
    "                f\"linear_{layer}\", nn.Linear(self.hidden_dim[layer-1], self.hidden_dim[layer]))\n",
    "            decoder.add_module(f\"relu_{layer}\", nn.ReLU())\n",
    "        decoder.add_module(\n",
    "            \"linear_output\", nn.Linear(self.hidden_dim[-1], self.input_dim))\n",
    "        decoder.add_module(\"sigmoid_output\", nn.Sigmoid())\n",
    "        return decoder\n",
    "        \n",
    "\n",
    "    def reparameterize(self, mu, logvar):\n",
    "        std = torch.exp(0.5 * logvar)\n",
    "        eps = torch.randn_like(std)\n",
    "        return mu + eps * std\n",
    "\n",
    "    def forward(self, x):\n",
    "        x = self.encoder(x)\n",
    "        mu = self.fc_mu(x)\n",
    "        logvar = self.fc_logvar(x)\n",
    "        z = self.reparameterize(mu, logvar)\n",
    "        output = self.decoder(z)\n",
    "        return output, mu, logvar\n"
   ]
  },
  {
   "cell_type": "code",
   "execution_count": null,
   "metadata": {},
   "outputs": [],
   "source": [
    "def objective(trial):\n",
    "    # 1. Suggest values for hyper-parameters\n",
    "    learning_rate = trial.suggest_float(\"learning_rate\", 1e-5, 5e-2, log=True)\n",
    "    num_layers = trial.suggest_int(\"num_layers\", 2, 3)\n",
    "    latent_dim = trial.suggest_int(\"latent_dim\", 16, 64)\n",
    "    hidden_dims = [trial.suggest_int(\n",
    "        f\"hidden_dim_{i}\", 16, 128) for i in range(num_layers)]\n",
    "    input_dim = X_tensor.shape[1]\n",
    "\n",
    "    # 2. Create the model, optimizer, and loss function\n",
    "    model = VAE(input_dim, hidden_dims, latent_dim, num_layers)\n",
    "    optimizer = optim.AdamW(model.parameters(), lr=learning_rate)\n",
    "    recon_loss_fn = nn.MSELoss(reduction='sum')\n",
    "\n",
    "    # 3. Train the model\n",
    "    best_loss = np.inf\n",
    "    n_epochs = 500  # number of epochs\n",
    "    for epoch in range(n_epochs):\n",
    "        for batch in train_dataloader:\n",
    "            optimizer.zero_grad()\n",
    "            x = Variable(batch[0])\n",
    "            recon_x, mu, logvar = model(x)\n",
    "            recon_loss = recon_loss_fn(recon_x, x)\n",
    "            kl_loss = -0.5 * torch.sum(1 + logvar - mu.pow(2) - logvar.exp())\n",
    "            loss = recon_loss + kl_loss\n",
    "            loss.backward()\n",
    "            optimizer.step()\n",
    "\n",
    "    # 4. Evaluate the model\n",
    "    model.eval()\n",
    "    total_recon_loss = 0\n",
    "    total_kl_loss = 0\n",
    "    total_validation_loss = 0\n",
    "    with torch.no_grad():\n",
    "        for batch in val_dataloader:\n",
    "            x = Variable(batch[0])\n",
    "            recon_x, mu, logvar = model(x)\n",
    "            recon_loss = recon_loss_fn(recon_x, x)\n",
    "            kl_loss = -0.5 * torch.sum(1 + logvar - mu.pow(2) - logvar.exp())\n",
    "            loss = recon_loss + 0.5*kl_loss\n",
    "            total_recon_loss += recon_loss.item()\n",
    "            total_kl_loss += kl_loss.item()\n",
    "            total_validation_loss += loss.item()\n",
    "\n",
    "    mean_kl_loss = total_kl_loss / len(val_dataloader)\n",
    "    mean_recon_loss = total_recon_loss / len(val_dataloader)\n",
    "    mean_validation_loss = total_validation_loss / len(val_dataloader)\n",
    "    \n",
    "    # Save best model\n",
    "    if mean_validation_loss < best_loss:\n",
    "        best_loss = mean_validation_loss\n",
    "        torch.save(model.state_dict(), \"./models/vae_best_model.pt\")\n",
    "    print(\n",
    "        f\"Validation Loss: {mean_validation_loss}, Recon loss: {mean_recon_loss}, KL loss: {mean_kl_loss}\")\n",
    "    return mean_validation_loss"
   ]
  },
  {
   "cell_type": "code",
   "execution_count": null,
   "metadata": {},
   "outputs": [],
   "source": [
    "study = optuna.create_study(direction=\"minimize\")\n",
    "study.optimize(objective, n_trials=100)\n",
    "\n",
    "best_trial = study.best_trial\n",
    "print(f\"Best trial: {best_trial.number}\")\n",
    "print(f\"Best value: {best_trial.value}\")\n",
    "print(\"Best parameters:\")\n",
    "for key, value in best_trial.params.items():\n",
    "    print(f\"  {key}: {value}\")"
   ]
  },
  {
   "attachments": {},
   "cell_type": "markdown",
   "metadata": {},
   "source": [
    "### Generate data"
   ]
  },
  {
   "cell_type": "code",
   "execution_count": null,
   "metadata": {},
   "outputs": [],
   "source": [
    "num_samples = 5  # number of samples you want to generate\n",
    "latent_dim = 32  # dimension of the latent space\n",
    "z = torch.randn(num_samples, latent_dim)\n",
    "model.eval()\n",
    "with torch.no_grad():\n",
    "    generated_data = model.decoder(z).cpu().numpy()"
   ]
  },
  {
   "cell_type": "code",
   "execution_count": null,
   "metadata": {},
   "outputs": [],
   "source": [
    "generated_data"
   ]
  },
  {
   "cell_type": "code",
   "execution_count": null,
   "metadata": {},
   "outputs": [],
   "source": [
    "inv_gen_train = scaler.inverse_transform(generated_data)"
   ]
  },
  {
   "cell_type": "code",
   "execution_count": null,
   "metadata": {},
   "outputs": [],
   "source": [
    "inv_gen_train"
   ]
  },
  {
   "cell_type": "code",
   "execution_count": null,
   "metadata": {},
   "outputs": [],
   "source": [
    "gen_train = pd.DataFrame(inv_gen_train, columns=train_columns)\n"
   ]
  },
  {
   "cell_type": "code",
   "execution_count": null,
   "metadata": {},
   "outputs": [],
   "source": [
    "gen_train\n"
   ]
  },
  {
   "cell_type": "code",
   "execution_count": null,
   "metadata": {},
   "outputs": [],
   "source": [
    "best_supervised_model.predict(scaler.inverse_transform(generated_data))"
   ]
  },
  {
   "cell_type": "code",
   "execution_count": null,
   "metadata": {},
   "outputs": [],
   "source": [
    "best_trial = study.best_trial\n",
    "best_vae_params = best_trial.params\n",
    "print(best_vae_params)"
   ]
  },
  {
   "cell_type": "code",
   "execution_count": null,
   "metadata": {},
   "outputs": [],
   "source": [
    "study.best_model"
   ]
  },
  {
   "cell_type": "code",
   "execution_count": null,
   "metadata": {},
   "outputs": [],
   "source": [
    "best_model = VAE(input_dim, hidden_dim, latent_dim)\n"
   ]
  },
  {
   "cell_type": "code",
   "execution_count": null,
   "metadata": {},
   "outputs": [],
   "source": [
    "num_samples = 1000  # number of samples you want to generate\n",
    "latent_dim = best_vae_params[\"latent_dim\"]  # dimension of the latent space\n",
    "z = torch.randn(num_samples, latent_dim)\n",
    "print(z.shape)\n",
    "print(z[100])"
   ]
  },
  {
   "cell_type": "code",
   "execution_count": null,
   "metadata": {},
   "outputs": [],
   "source": [
    "vae = VAE(input_dim, hidden_dim, latent_dim)"
   ]
  },
  {
   "cell_type": "code",
   "execution_count": null,
   "metadata": {},
   "outputs": [],
   "source": [
    "with torch.no_grad():\n",
    "    generated_data = vae.decoder(z).cpu().numpy()"
   ]
  }
 ],
 "metadata": {
  "celltoolbar": "Edit Metadata",
  "kernelspec": {
   "display_name": "Python 3",
   "language": "python",
   "name": "python3"
  },
  "language_info": {
   "codemirror_mode": {
    "name": "ipython",
    "version": 3
   },
   "file_extension": ".py",
   "mimetype": "text/x-python",
   "name": "python",
   "nbconvert_exporter": "python",
   "pygments_lexer": "ipython3",
   "version": "3.9.13"
  }
 },
 "nbformat": 4,
 "nbformat_minor": 2
}
